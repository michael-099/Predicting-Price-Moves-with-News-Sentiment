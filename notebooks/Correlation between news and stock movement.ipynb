{
 "cells": [
  {
   "cell_type": "code",
   "execution_count": 6,
   "id": "b81b736a",
   "metadata": {},
   "outputs": [],
   "source": [
    "import numpy as np \n",
    "import pandas as pd \n",
    "import matplotlib.pyplot as plt "
   ]
  },
  {
   "cell_type": "markdown",
   "id": "e3808b83",
   "metadata": {},
   "source": [
    "##### Date Alignment"
   ]
  },
  {
   "cell_type": "code",
   "execution_count": 7,
   "id": "f8d57269",
   "metadata": {},
   "outputs": [
    {
     "data": {
      "application/vnd.microsoft.datawrangler.viewer.v0+json": {
       "columns": [
        {
         "name": "index",
         "rawType": "int64",
         "type": "integer"
        },
        {
         "name": "Unnamed: 0",
         "rawType": "int64",
         "type": "integer"
        },
        {
         "name": "headline",
         "rawType": "object",
         "type": "string"
        },
        {
         "name": "url",
         "rawType": "object",
         "type": "string"
        },
        {
         "name": "publisher",
         "rawType": "object",
         "type": "string"
        },
        {
         "name": "date",
         "rawType": "object",
         "type": "string"
        },
        {
         "name": "stock",
         "rawType": "object",
         "type": "string"
        }
       ],
       "ref": "a8aefcdd-6ebd-4f92-a275-18ffcd35ae0c",
       "rows": [
        [
         "1407323",
         "1413844",
         "Top Narrow Based Indexes For August 29",
         "https://www.benzinga.com/news/11/08/1888782/top-narrow-based-indexes-for-august-29",
         "Monica Gerson",
         "2011-08-29 00:00:00",
         "ZX"
        ],
        [
         "1407324",
         "1413845",
         "Recap: Wednesday's Top Percentage Gainers and Losers",
         "https://www.benzinga.com/news/earnings/11/06/1193660/recap-wednesdays-top-percentage-gainers-and-losers",
         "Benjamin Lee",
         "2011-06-22 00:00:00",
         "ZX"
        ],
        [
         "1407325",
         "1413846",
         "UPDATE: Oppenheimer Color on China Zenix Auto Initiation",
         "https://www.benzinga.com/analyst-ratings/analyst-color/11/06/1186890/update-oppenheimer-color-on-china-zenix-auto-initiation",
         "BenzingaStaffL",
         "2011-06-21 00:00:00",
         "ZX"
        ],
        [
         "1407326",
         "1413847",
         "Oppenheimer Initiates China Zenix At Outperform, $8 PT",
         "https://www.benzinga.com/analyst-ratings/price-target/11/06/1186025/oppenheimer-initiates-china-zenix-at-outperform-8-pt",
         "Joe Young",
         "2011-06-21 00:00:00",
         "ZX"
        ],
        [
         "1407327",
         "1413848",
         "China Zenix Auto International Opens For Trading at $6.00; IPO Price Set at $6.00",
         "https://www.benzinga.com/news/ipos/11/05/1078911/china-zenix-auto-international-opens-for-trading-at-6-00-ipo-price-set-at-6-",
         "Allie Wickman",
         "2011-05-12 00:00:00",
         "ZX"
        ]
       ],
       "shape": {
        "columns": 6,
        "rows": 5
       }
      },
      "text/html": [
       "<div>\n",
       "<style scoped>\n",
       "    .dataframe tbody tr th:only-of-type {\n",
       "        vertical-align: middle;\n",
       "    }\n",
       "\n",
       "    .dataframe tbody tr th {\n",
       "        vertical-align: top;\n",
       "    }\n",
       "\n",
       "    .dataframe thead th {\n",
       "        text-align: right;\n",
       "    }\n",
       "</style>\n",
       "<table border=\"1\" class=\"dataframe\">\n",
       "  <thead>\n",
       "    <tr style=\"text-align: right;\">\n",
       "      <th></th>\n",
       "      <th>Unnamed: 0</th>\n",
       "      <th>headline</th>\n",
       "      <th>url</th>\n",
       "      <th>publisher</th>\n",
       "      <th>date</th>\n",
       "      <th>stock</th>\n",
       "    </tr>\n",
       "  </thead>\n",
       "  <tbody>\n",
       "    <tr>\n",
       "      <th>1407323</th>\n",
       "      <td>1413844</td>\n",
       "      <td>Top Narrow Based Indexes For August 29</td>\n",
       "      <td>https://www.benzinga.com/news/11/08/1888782/to...</td>\n",
       "      <td>Monica Gerson</td>\n",
       "      <td>2011-08-29 00:00:00</td>\n",
       "      <td>ZX</td>\n",
       "    </tr>\n",
       "    <tr>\n",
       "      <th>1407324</th>\n",
       "      <td>1413845</td>\n",
       "      <td>Recap: Wednesday's Top Percentage Gainers and ...</td>\n",
       "      <td>https://www.benzinga.com/news/earnings/11/06/1...</td>\n",
       "      <td>Benjamin Lee</td>\n",
       "      <td>2011-06-22 00:00:00</td>\n",
       "      <td>ZX</td>\n",
       "    </tr>\n",
       "    <tr>\n",
       "      <th>1407325</th>\n",
       "      <td>1413846</td>\n",
       "      <td>UPDATE: Oppenheimer Color on China Zenix Auto ...</td>\n",
       "      <td>https://www.benzinga.com/analyst-ratings/analy...</td>\n",
       "      <td>BenzingaStaffL</td>\n",
       "      <td>2011-06-21 00:00:00</td>\n",
       "      <td>ZX</td>\n",
       "    </tr>\n",
       "    <tr>\n",
       "      <th>1407326</th>\n",
       "      <td>1413847</td>\n",
       "      <td>Oppenheimer Initiates China Zenix At Outperfor...</td>\n",
       "      <td>https://www.benzinga.com/analyst-ratings/price...</td>\n",
       "      <td>Joe Young</td>\n",
       "      <td>2011-06-21 00:00:00</td>\n",
       "      <td>ZX</td>\n",
       "    </tr>\n",
       "    <tr>\n",
       "      <th>1407327</th>\n",
       "      <td>1413848</td>\n",
       "      <td>China Zenix Auto International Opens For Tradi...</td>\n",
       "      <td>https://www.benzinga.com/news/ipos/11/05/10789...</td>\n",
       "      <td>Allie Wickman</td>\n",
       "      <td>2011-05-12 00:00:00</td>\n",
       "      <td>ZX</td>\n",
       "    </tr>\n",
       "  </tbody>\n",
       "</table>\n",
       "</div>"
      ],
      "text/plain": [
       "         Unnamed: 0                                           headline  \\\n",
       "1407323     1413844             Top Narrow Based Indexes For August 29   \n",
       "1407324     1413845  Recap: Wednesday's Top Percentage Gainers and ...   \n",
       "1407325     1413846  UPDATE: Oppenheimer Color on China Zenix Auto ...   \n",
       "1407326     1413847  Oppenheimer Initiates China Zenix At Outperfor...   \n",
       "1407327     1413848  China Zenix Auto International Opens For Tradi...   \n",
       "\n",
       "                                                       url       publisher  \\\n",
       "1407323  https://www.benzinga.com/news/11/08/1888782/to...   Monica Gerson   \n",
       "1407324  https://www.benzinga.com/news/earnings/11/06/1...    Benjamin Lee   \n",
       "1407325  https://www.benzinga.com/analyst-ratings/analy...  BenzingaStaffL   \n",
       "1407326  https://www.benzinga.com/analyst-ratings/price...       Joe Young   \n",
       "1407327  https://www.benzinga.com/news/ipos/11/05/10789...   Allie Wickman   \n",
       "\n",
       "                        date stock  \n",
       "1407323  2011-08-29 00:00:00    ZX  \n",
       "1407324  2011-06-22 00:00:00    ZX  \n",
       "1407325  2011-06-21 00:00:00    ZX  \n",
       "1407326  2011-06-21 00:00:00    ZX  \n",
       "1407327  2011-05-12 00:00:00    ZX  "
      ]
     },
     "execution_count": 7,
     "metadata": {},
     "output_type": "execute_result"
    }
   ],
   "source": [
    "raw_df = pd.read_csv(\"../Data/raw_analyst_ratings.csv/raw_analyst_ratings.csv\")\n",
    "raw_df.head()\n",
    "raw_df.tail()"
   ]
  },
  {
   "cell_type": "code",
   "execution_count": 8,
   "id": "25174ec6",
   "metadata": {},
   "outputs": [
    {
     "name": "stdout",
     "output_type": "stream",
     "text": [
      "         Date      Open      High       Low     Close  Adj Close     Volume  \\\n",
      "0  1980-12-12  0.128348  0.128906  0.128348  0.128348   0.098943  469033600   \n",
      "1  1980-12-15  0.122210  0.122210  0.121652  0.121652   0.093781  175884800   \n",
      "2  1980-12-16  0.113281  0.113281  0.112723  0.112723   0.086898  105728000   \n",
      "3  1980-12-17  0.115513  0.116071  0.115513  0.115513   0.089049   86441600   \n",
      "4  1980-12-18  0.118862  0.119420  0.118862  0.118862   0.091630   73449600   \n",
      "\n",
      "   Dividends  Stock Splits  \n",
      "0        0.0           0.0  \n",
      "1        0.0           0.0  \n",
      "2        0.0           0.0  \n",
      "3        0.0           0.0  \n",
      "4        0.0           0.0  \n",
      "         Date      Open      High       Low     Close  Adj Close      Volume  \\\n",
      "0  1997-05-15  0.121875  0.125000  0.096354  0.097917   0.097917  1443120000   \n",
      "1  1997-05-16  0.098438  0.098958  0.085417  0.086458   0.086458   294000000   \n",
      "2  1997-05-19  0.088021  0.088542  0.081250  0.085417   0.085417   122136000   \n",
      "3  1997-05-20  0.086458  0.087500  0.081771  0.081771   0.081771   109344000   \n",
      "4  1997-05-21  0.081771  0.082292  0.068750  0.071354   0.071354   377064000   \n",
      "\n",
      "   Dividends  Stock Splits  \n",
      "0        0.0           0.0  \n",
      "1        0.0           0.0  \n",
      "2        0.0           0.0  \n",
      "3        0.0           0.0  \n",
      "4        0.0           0.0  \n",
      "         Date      Open      High       Low     Close  Adj Close     Volume  \\\n",
      "0  2004-08-19  2.490664  2.591785  2.390042  2.499133   2.496292  897427216   \n",
      "1  2004-08-20  2.515820  2.716817  2.503118  2.697639   2.694573  458857488   \n",
      "2  2004-08-23  2.758411  2.826406  2.716070  2.724787   2.721690  366857939   \n",
      "3  2004-08-24  2.770615  2.779581  2.579581  2.611960   2.608991  306396159   \n",
      "4  2004-08-25  2.614201  2.689918  2.587302  2.640104   2.637103  184645512   \n",
      "\n",
      "   Dividends  Stock Splits  \n",
      "0        0.0           0.0  \n",
      "1        0.0           0.0  \n",
      "2        0.0           0.0  \n",
      "3        0.0           0.0  \n",
      "4        0.0           0.0  \n",
      "         Date       Open       High        Low      Close  Adj Close  \\\n",
      "0  2012-12-12  28.000000  28.139999  27.370001  27.580000  27.523441   \n",
      "1  2012-12-13  27.590000  28.750000  27.430000  28.240000  28.182087   \n",
      "2  2012-12-14  28.180000  28.330000  26.760000  26.809999  26.755020   \n",
      "3  2012-12-17  26.770000  27.000000  26.320000  26.750000  26.695143   \n",
      "4  2012-12-18  26.959999  27.910000  26.900000  27.709999  27.653173   \n",
      "\n",
      "     Volume  Dividends  Stock Splits  \n",
      "0  46704200        0.0           0.0  \n",
      "1  81051600        0.0           0.0  \n",
      "2  91631600        0.0           0.0  \n",
      "3  57742500        0.0           0.0  \n",
      "4  60512900        0.0           0.0  \n",
      "         Date      Open      High       Low     Close  Adj Close      Volume  \\\n",
      "0  1986-03-13  0.088542  0.101563  0.088542  0.097222   0.059946  1031788800   \n",
      "1  1986-03-14  0.097222  0.102431  0.097222  0.100694   0.062087   308160000   \n",
      "2  1986-03-17  0.100694  0.103299  0.100694  0.102431   0.063158   133171200   \n",
      "3  1986-03-18  0.102431  0.103299  0.098958  0.099826   0.061552    67766400   \n",
      "4  1986-03-19  0.099826  0.100694  0.097222  0.098090   0.060482    47894400   \n",
      "\n",
      "   Dividends  Stock Splits  \n",
      "0        0.0           0.0  \n",
      "1        0.0           0.0  \n",
      "2        0.0           0.0  \n",
      "3        0.0           0.0  \n",
      "4        0.0           0.0  \n",
      "         Date      Open      High       Low     Close  Adj Close      Volume  \\\n",
      "0  1999-01-22  0.043750  0.048828  0.038802  0.041016   0.037621  2714688000   \n",
      "1  1999-01-25  0.044271  0.045833  0.041016  0.045313   0.041562   510480000   \n",
      "2  1999-01-26  0.045833  0.046745  0.041146  0.041797   0.038337   343200000   \n",
      "3  1999-01-27  0.041927  0.042969  0.039583  0.041667   0.038218   244368000   \n",
      "4  1999-01-28  0.041667  0.041927  0.041276  0.041536   0.038098   227520000   \n",
      "\n",
      "   Dividends  Stock Splits  \n",
      "0        0.0           0.0  \n",
      "1        0.0           0.0  \n",
      "2        0.0           0.0  \n",
      "3        0.0           0.0  \n",
      "4        0.0           0.0  \n",
      "         Date      Open      High       Low     Close  Adj Close     Volume  \\\n",
      "0  2010-06-29  1.266667  1.666667  1.169333  1.592667   1.592667  281494500   \n",
      "1  2010-06-30  1.719333  2.028000  1.553333  1.588667   1.588667  257806500   \n",
      "2  2010-07-01  1.666667  1.728000  1.351333  1.464000   1.464000  123282000   \n",
      "3  2010-07-02  1.533333  1.540000  1.247333  1.280000   1.280000   77097000   \n",
      "4  2010-07-06  1.333333  1.333333  1.055333  1.074000   1.074000  103003500   \n",
      "\n",
      "   Dividends  Stock Splits  \n",
      "0        0.0           0.0  \n",
      "1        0.0           0.0  \n",
      "2        0.0           0.0  \n",
      "3        0.0           0.0  \n",
      "4        0.0           0.0  \n"
     ]
    }
   ],
   "source": [
    "df_AAPL = pd.read_csv(\"../Data/yfinance_data/yfinance_data/AAPL_historical_data.csv\")\n",
    "print(df_AAPL.head())\n",
    "\n",
    "df_AMZN = pd.read_csv(\"../Data/yfinance_data/yfinance_data/AMZN_historical_data.csv\")\n",
    "print(df_AMZN.head())\n",
    "\n",
    "df_GOOG = pd.read_csv(\"../Data/yfinance_data/yfinance_data/GOOG_historical_data.csv\")\n",
    "print(df_GOOG.head())\n",
    "\n",
    "df_META = pd.read_csv(\"../Data/yfinance_data/yfinance_data/META_historical_data.csv\")\n",
    "print(df_META.head())\n",
    "\n",
    "df_MSFT = pd.read_csv(\"../Data/yfinance_data/yfinance_data/MSFT_historical_data.csv\")\n",
    "print(df_MSFT.head())\n",
    "\n",
    "df_NVDA = pd.read_csv(\"../Data/yfinance_data/yfinance_data/NVDA_historical_data.csv\")\n",
    "print(df_NVDA.head())\n",
    "\n",
    "df_TSLA = pd.read_csv(\"../Data/yfinance_data/yfinance_data/TSLA_historical_data.csv\")\n",
    "print(df_TSLA.head())\n"
   ]
  },
  {
   "cell_type": "code",
   "execution_count": 23,
   "id": "f241849b",
   "metadata": {},
   "outputs": [
    {
     "name": "stdout",
     "output_type": "stream",
     "text": [
      "datetime64[ns]\n",
      "datetime64[ns]\n",
      "datetime64[ns]\n",
      "datetime64[ns]\n",
      "datetime64[ns]\n",
      "datetime64[ns]\n",
      "datetime64[ns]\n"
     ]
    }
   ],
   "source": [
    "def print_company_dtype():\n",
    "    print(df_AAPL[\"Date\"].dtype)\n",
    "    print(df_AMZN[\"Date\"].dtype)\n",
    "    print(df_GOOG[\"Date\"].dtype)\n",
    "    print(df_META[\"Date\"].dtype)\n",
    "    print(df_MSFT[\"Date\"].dtype)\n",
    "    print(df_NVDA[\"Date\"].dtype)\n",
    "    print(df_TSLA[\"Date\"].dtype)\n",
    "print_company_dtype()\n"
   ]
  },
  {
   "cell_type": "markdown",
   "id": "d7ab7a2c",
   "metadata": {},
   "source": [
    "all of the date are stored in string format so it should be converted to date dtype "
   ]
  },
  {
   "cell_type": "code",
   "execution_count": 10,
   "id": "5b7605ef",
   "metadata": {},
   "outputs": [
    {
     "name": "stdout",
     "output_type": "stream",
     "text": [
      "0        1980-12-12\n",
      "1        1980-12-15\n",
      "2        1980-12-16\n",
      "3        1980-12-17\n",
      "4        1980-12-18\n",
      "            ...    \n",
      "10993    2024-07-24\n",
      "10994    2024-07-25\n",
      "10995    2024-07-26\n",
      "10996    2024-07-29\n",
      "10997    2024-07-30\n",
      "Name: Date, Length: 10998, dtype: object\n"
     ]
    }
   ],
   "source": [
    "print(df_AAPL.Date)"
   ]
  },
  {
   "cell_type": "code",
   "execution_count": null,
   "id": "8c9741fd",
   "metadata": {},
   "outputs": [],
   "source": [
    "def convert_time(column_name,df):\n",
    "    df[column_name] = pd.to_datetime(df[column_name])\n",
    "    return df\n",
    "    "
   ]
  },
  {
   "cell_type": "code",
   "execution_count": null,
   "id": "e24e95bb",
   "metadata": {},
   "outputs": [
    {
     "name": "stdout",
     "output_type": "stream",
     "text": [
      "0      1986-03-13\n",
      "1      1986-03-14\n",
      "2      1986-03-17\n",
      "3      1986-03-18\n",
      "4      1986-03-19\n",
      "          ...    \n",
      "9667   2024-07-24\n",
      "9668   2024-07-25\n",
      "9669   2024-07-26\n",
      "9670   2024-07-29\n",
      "9671   2024-07-30\n",
      "Name: Date, Length: 9672, dtype: datetime64[ns]\n"
     ]
    }
   ],
   "source": [
    "df_AAPL = convert_time(\"Date\", df_AAPL)\n",
    "df_AMZN = convert_time(\"Date\", df_AMZN)\n",
    "df_GOOG = convert_time(\"Date\", df_GOOG)\n",
    "df_META = convert_time(\"Date\", df_META)\n",
    "df_MSFT = convert_time(\"Date\", df_MSFT)\n",
    "df_NVDA = convert_time(\"Date\", df_NVDA)\n",
    "df_TSLA = convert_time(\"Date\", df_TSLA)\n",
    "\n",
    "print_company_dtype()\n",
    "\n",
    "raw_df['date']=pd.to_datetime(str(raw_df['date']).split()[1] , format= \"mixed\")\n",
    "print(raw_df[\"date\"].dtype)"
   ]
  }
 ],
 "metadata": {
  "kernelspec": {
   "display_name": "sentiment_env",
   "language": "python",
   "name": "python3"
  },
  "language_info": {
   "codemirror_mode": {
    "name": "ipython",
    "version": 3
   },
   "file_extension": ".py",
   "mimetype": "text/x-python",
   "name": "python",
   "nbconvert_exporter": "python",
   "pygments_lexer": "ipython3",
   "version": "3.13.2"
  }
 },
 "nbformat": 4,
 "nbformat_minor": 5
}
